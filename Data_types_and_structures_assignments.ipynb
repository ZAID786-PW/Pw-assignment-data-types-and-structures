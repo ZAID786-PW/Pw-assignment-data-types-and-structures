{
  "nbformat": 4,
  "nbformat_minor": 0,
  "metadata": {
    "colab": {
      "provenance": []
    },
    "kernelspec": {
      "name": "python3",
      "display_name": "Python 3"
    },
    "language_info": {
      "name": "python"
    }
  },
  "cells": [
    {
      "cell_type": "markdown",
      "source": [
        "#Q:1 What are data structures, and why are they important.\n",
        "\n",
        "\n",
        "Ans> Data structures are ways to store and organize data so that it can be used efficiently. They are important because they help us write clean and fast code by making data access and updates easier."
      ],
      "metadata": {
        "id": "V4qiiwD2i2mO"
      }
    },
    {
      "cell_type": "markdown",
      "source": [
        "#Q:2 Explain the difference between mutable and immutable data types with examples.\n",
        "\n",
        "\n",
        "Ans> Mutable data types can be changed after they are created, like lists. Immutable data types cannot be changed once created, like strings or tuples.\n",
        "\n",
        "#Examples Are as followed:"
      ],
      "metadata": {
        "id": "skUwraBdjPTL"
      }
    },
    {
      "cell_type": "code",
      "source": [
        "# Example of mutable and immutable data types\n",
        "my_list = [1, 2, 3]      # mutable\n",
        "my_string = \"hello\"      # immutable"
      ],
      "metadata": {
        "id": "MH_eWnL6fiZK"
      },
      "execution_count": 3,
      "outputs": []
    },
    {
      "cell_type": "markdown",
      "source": [
        "#Q:3 What Are the main diffrence between lists and tuples in python.\n",
        "\n",
        "Ans> Lists are mutable and defined using square brackets , while tuples are immutable and use round brackets. Lists are used when data needs to change, but tuples are used when the data should stay constant."
      ],
      "metadata": {
        "id": "BniZK_NZgAcW"
      }
    },
    {
      "cell_type": "markdown",
      "source": [
        "#Q:4 describe how dictionairies store data.\n",
        "\n",
        "Ans> Dictionaries store data as key-value pairs. Each key is unique and maps to a value. You can quickly access data using the key."
      ],
      "metadata": {
        "id": "5suHfkcSg1V1"
      }
    },
    {
      "cell_type": "markdown",
      "source": [
        "#|Q:5 Why might you use a set instead of a list in Python.\n",
        "\n",
        "\n",
        "Ans> Sets are used when you want to store only unique items and don’t care about the order. Unlike lists, sets automatically remove duplicates and offer faster lookups."
      ],
      "metadata": {
        "id": "u5ZKLrAEhQpM"
      }
    },
    {
      "cell_type": "markdown",
      "source": [
        "#Q:6 What is a string in Python, and how is it different from a list.\n",
        "\n",
        "\n",
        "Ans> A string is a sequence of characters, like \"hello\", while a list can hold any data types, like numbers, strings, etc. Also, strings are immutable, but lists are mutable — meaning we can change a list, but not a string."
      ],
      "metadata": {
        "id": "w6DImhbNhvJx"
      }
    },
    {
      "cell_type": "markdown",
      "source": [
        "#Q:7 How do tuples ensure data integrity in Python.\n",
        "\n",
        "\n",
        "Ans> tuples are immutable, which means once they are created, their values can't be changed. This helps keep the data safe from accidental changes and ensures data stays the same throughout the program."
      ],
      "metadata": {
        "id": "RbPD_RpPh_hs"
      }
    },
    {
      "cell_type": "markdown",
      "source": [
        "#Q:8 What is a hash table, and how does it relate to dictionaries in Python.\n",
        "\n",
        "\n",
        "AAns> a hash table is a data structure that stores data using key-value pairs and uses a hash function to quickly find the value. Python dictionaries are built using hash tables, which is why they're so fast for lookups."
      ],
      "metadata": {
        "id": "O5_ZHrLSjt2b"
      }
    },
    {
      "cell_type": "markdown",
      "source": [
        "#Q:9 Can lists contain different data types in Python.\n",
        "\n",
        "\n",
        "Ans> yes, Python lists can store different data types in the same list. For example, a list can have numbers, strings, and even other lists or dictionaries."
      ],
      "metadata": {
        "id": "ejD5uGXUkHkr"
      }
    },
    {
      "cell_type": "markdown",
      "source": [
        "#Q:10 Explain why strings are immutable in Python.\n",
        "\n",
        "\n",
        "Strings are immutable to make them safe and efficient. Since they can’t be changed, Python can optimize their use in memory and avoid unexpected bugs caused by accidental changes."
      ],
      "metadata": {
        "id": "IcgCRCY4vyS0"
      }
    },
    {
      "cell_type": "markdown",
      "source": [
        "#Q:11 What advantages do dictionaries offer over lists for certain tasks.\n",
        "\n",
        "\n",
        "Dictionaries are faster when you need to look up values by keys. Instead of searching through a whole list, a dictionary directly gives you the value linked to a key. They're perfect when your data has labels or names — like student names and their marks."
      ],
      "metadata": {
        "id": "1rcwUThYv_CL"
      }
    },
    {
      "cell_type": "markdown",
      "source": [
        "#Q:12 Describe a scenario where using a tuple would be preferable over a list.\n",
        "\n",
        "\n",
        "Use a tuple when the data should not change. For example, storing the coordinates of a location like (28.61, 77.23) — you don’t want anyone to accidentally modify it. Tuples are also faster and take less memory than lists."
      ],
      "metadata": {
        "id": "eZJeBzLdwIRK"
      }
    },
    {
      "cell_type": "markdown",
      "source": [
        "#Q:13 Q13. How do sets handle duplicate values in Python.\n",
        "\n",
        "\n",
        "Sets automatically remove duplicates. If you add the same value again, it just keeps one copy. This makes sets perfect for storing unique items, like unique email IDs or roll numbers."
      ],
      "metadata": {
        "id": "YKYQxJvzwUQl"
      }
    },
    {
      "cell_type": "markdown",
      "source": [
        "#Q14. How does the in keyword work differently for lists and dictionaries.\n",
        "\n",
        "#Answers\n",
        "\n",
        "In lists, in checks if a value exists in the list.\n",
        "\n",
        "In dictionaries, in checks if a key exists, not the value."
      ],
      "metadata": {
        "id": "cQtaWfliwdnn"
      }
    },
    {
      "cell_type": "markdown",
      "source": [
        "#Q:15  Can you modify the elements of a tuple? Explain why or why not.\n",
        "\n",
        "\n",
        "No, tuples are immutable, which means once created, their elements can’t be changed. This is because tuples are designed to store fixed data that should stay the same, like days of the week or fixed coordinates."
      ],
      "metadata": {
        "id": "PpL2d5f7wuGS"
      }
    },
    {
      "cell_type": "markdown",
      "source": [
        "#Q16. What is a nested dictionary, and give an example of its use case.\n",
        "\n",
        "\n",
        "A nested dictionary means a dictionary inside another dictionary. It's useful when data has multiple levels."
      ],
      "metadata": {
        "id": "cyrn6TmHw7a2"
      }
    },
    {
      "cell_type": "markdown",
      "source": [
        "#Q:17  Describe the time complexity of accessing elements in a dictionary\n",
        "In what situations are lists preferred over dictionaries.\n",
        "\n",
        "\n",
        "Accessing elements in a dictionary has O(1) time complexity — super fast. But lists are better when you just need to store ordered items or go through items in sequence. Use lists when order matters or when you don’t need key-value pairs."
      ],
      "metadata": {
        "id": "eNuf65P8xJZ6"
      }
    },
    {
      "cell_type": "markdown",
      "source": [
        "#Q18. In what situations are lists preferred over dictionaries.\n",
        "\n",
        "\n",
        "Lists are better when you:\n",
        "\n",
        "Just need to store items in a specific order\n",
        "\n",
        "Don’t need key-value pairs\n",
        "\n",
        "Want to go through items using a loop or index (like list[0])\n",
        "\n",
        "Example: Storing a list of fruits like [\"apple\", \"banana\", \"mango\"] — no need for keys here"
      ],
      "metadata": {
        "id": "HKLB3uIwxq0N"
      }
    },
    {
      "cell_type": "markdown",
      "source": [
        "#Q19. Why are dictionaries considered unordered, and how does that affect data retrieval.\n",
        "\n",
        "\n",
        "Earlier versions of Python (before 3.7) didn’t keep the order of items in dictionaries — that’s why they were called unordered. Even now, the order doesn’t matter when retrieving data using keys. You can’t rely on the order, but you’ll always get the value if you know the key."
      ],
      "metadata": {
        "id": "i-GMXXjRxzno"
      }
    },
    {
      "cell_type": "markdown",
      "source": [
        "#Q:20 Explain the difference between a list and a dictionary in terms of data retrieval.\n",
        "\n",
        "\n",
        "In a list, you get data using index numbers, like my_list[2].\n",
        "\n",
        "In a dictionary, you get data using keys, like my_dict[\"name\"].\n",
        "\n",
        "Dictionaries are faster if you know the key, while lists are simple if you just want to access items by position."
      ],
      "metadata": {
        "id": "uLwK2rySx4a9"
      }
    },
    {
      "cell_type": "markdown",
      "source": [
        "#THEORETICAL QUESTIONS:"
      ],
      "metadata": {
        "id": "wNegbGi546aJ"
      }
    },
    {
      "cell_type": "code",
      "source": [
        "# Q1. Write a code to create a string with your name and print it.\n",
        "\n",
        "my_name = \"Zaid Bin Zaya\"\n",
        "print(my_name)"
      ],
      "metadata": {
        "colab": {
          "base_uri": "https://localhost:8080/"
        },
        "id": "5rEDk49QyFXK",
        "outputId": "2966fbf0-391b-4348-8d8b-e2d6644a88b0"
      },
      "execution_count": 8,
      "outputs": [
        {
          "output_type": "stream",
          "name": "stdout",
          "text": [
            "Zaid Bin Zaya\n"
          ]
        }
      ]
    },
    {
      "cell_type": "code",
      "source": [
        "# Q2. Write a code to find the length of the string \"Hello World\".\n",
        "\n",
        "text = \"Hello World\"\n",
        "print(len(text))"
      ],
      "metadata": {
        "colab": {
          "base_uri": "https://localhost:8080/"
        },
        "id": "EHr-ZkSBy4gj",
        "outputId": "3c826e94-b497-4272-9509-9d030a1c81f5"
      },
      "execution_count": 9,
      "outputs": [
        {
          "output_type": "stream",
          "name": "stdout",
          "text": [
            "11\n"
          ]
        }
      ]
    },
    {
      "cell_type": "code",
      "source": [
        "#  Q3. Write a code to slice the first 3 characters from the string \"Python Programming\".\n",
        "\n",
        "text = \"Python Programming\"\n",
        "sliced = text[:3]\n",
        "print(sliced)"
      ],
      "metadata": {
        "colab": {
          "base_uri": "https://localhost:8080/"
        },
        "id": "iauf85olzCiM",
        "outputId": "c246a985-06b8-44e8-f953-9ef2fa353141"
      },
      "execution_count": 10,
      "outputs": [
        {
          "output_type": "stream",
          "name": "stdout",
          "text": [
            "Pyt\n"
          ]
        }
      ]
    },
    {
      "cell_type": "code",
      "source": [
        "# Q4. Write a code to convert the string \"hello\" to uppercase.\n",
        "\n",
        "word = \"hello\"\n",
        "print(word.upper())"
      ],
      "metadata": {
        "colab": {
          "base_uri": "https://localhost:8080/"
        },
        "id": "1hhvECzIzOsy",
        "outputId": "acc3dcfa-e1b5-49f1-b4b7-e56b65e1d048"
      },
      "execution_count": 11,
      "outputs": [
        {
          "output_type": "stream",
          "name": "stdout",
          "text": [
            "HELLO\n"
          ]
        }
      ]
    },
    {
      "cell_type": "code",
      "source": [
        "# Q5. Write a code to replace the word \"apple\" with \"orange\" in the string 'i like apple'.\n",
        "\n",
        "sentence = \"i like apple\"\n",
        "new_sentence = sentence.replace(\"apple\", \"orange\")\n",
        "print(new_sentence)"
      ],
      "metadata": {
        "colab": {
          "base_uri": "https://localhost:8080/"
        },
        "id": "8sxEDMe_zYQE",
        "outputId": "03c205d9-6491-4df5-de2f-4d52d6283798"
      },
      "execution_count": 12,
      "outputs": [
        {
          "output_type": "stream",
          "name": "stdout",
          "text": [
            "i like orange\n"
          ]
        }
      ]
    },
    {
      "cell_type": "code",
      "source": [
        "# Q6. Write a code to create a list with numbers 1 to 5 and print it.\n",
        "\n",
        "numbers = [1, 2, 3, 4, 5]\n",
        "print(numbers)"
      ],
      "metadata": {
        "colab": {
          "base_uri": "https://localhost:8080/"
        },
        "id": "n2lwphDLzfe8",
        "outputId": "87ecc506-0645-4ee9-c24c-810c0eb69fe4"
      },
      "execution_count": 13,
      "outputs": [
        {
          "output_type": "stream",
          "name": "stdout",
          "text": [
            "[1, 2, 3, 4, 5]\n"
          ]
        }
      ]
    },
    {
      "cell_type": "code",
      "source": [
        "# Q7. Write a code to append the number 10 to the list [1, 2, 3, 4].\n",
        "\n",
        "my_list = [1, 2, 3, 4]\n",
        "my_list.append(10)\n",
        "print(my_list)"
      ],
      "metadata": {
        "colab": {
          "base_uri": "https://localhost:8080/"
        },
        "id": "9M2TVoeD0Fph",
        "outputId": "a93a6020-d2ad-41f7-f99d-023872d89c22"
      },
      "execution_count": 14,
      "outputs": [
        {
          "output_type": "stream",
          "name": "stdout",
          "text": [
            "[1, 2, 3, 4, 10]\n"
          ]
        }
      ]
    },
    {
      "cell_type": "code",
      "source": [
        "# Q8. Write a code to remove the number 3 from the list [1, 2, 3, 4, 5].\n",
        "\n",
        "my_list = [1, 2, 3, 4, 5]\n",
        "my_list.remove(3)\n",
        "print(my_list)"
      ],
      "metadata": {
        "colab": {
          "base_uri": "https://localhost:8080/"
        },
        "id": "rXzYh0gt0KKz",
        "outputId": "84f78732-7eef-44f5-bb7f-30c4a323820b"
      },
      "execution_count": 16,
      "outputs": [
        {
          "output_type": "stream",
          "name": "stdout",
          "text": [
            "[1, 2, 4, 5]\n"
          ]
        }
      ]
    },
    {
      "cell_type": "code",
      "source": [
        "# Q9. Write a code to access the second element in the list ['a', 'b', 'c', 'd'].\n",
        "\n",
        "letters = ['a', 'b', 'c', 'd']\n",
        "print(letters[1])"
      ],
      "metadata": {
        "colab": {
          "base_uri": "https://localhost:8080/"
        },
        "id": "ZLiMSttj0WrS",
        "outputId": "e741c851-c854-48d1-f45b-60f9d82370f6"
      },
      "execution_count": 17,
      "outputs": [
        {
          "output_type": "stream",
          "name": "stdout",
          "text": [
            "b\n"
          ]
        }
      ]
    },
    {
      "cell_type": "code",
      "source": [
        "#Q10. Write a code to reverse the list [10, 20, 30, 40, 50].\n",
        "\n",
        "my_list = [10, 20, 30, 40, 50]\n",
        "my_list.reverse()\n",
        "print(my_list)"
      ],
      "metadata": {
        "colab": {
          "base_uri": "https://localhost:8080/"
        },
        "id": "EEh896uI0jkj",
        "outputId": "018e060a-45fb-4611-e6e5-272aa2caf5d9"
      },
      "execution_count": 18,
      "outputs": [
        {
          "output_type": "stream",
          "name": "stdout",
          "text": [
            "[50, 40, 30, 20, 10]\n"
          ]
        }
      ]
    },
    {
      "cell_type": "code",
      "source": [
        "# Q11. Create a tuple with 100, 200, 300 and print it.\n",
        "\n",
        "numbers = (100, 200, 300)\n",
        "print(numbers)"
      ],
      "metadata": {
        "colab": {
          "base_uri": "https://localhost:8080/"
        },
        "id": "E5N6Aw740tt7",
        "outputId": "bbf2c2c4-239e-4a3a-f95b-26bdd4be34c1"
      },
      "execution_count": 19,
      "outputs": [
        {
          "output_type": "stream",
          "name": "stdout",
          "text": [
            "(100, 200, 300)\n"
          ]
        }
      ]
    },
    {
      "cell_type": "code",
      "source": [
        "# Q12. Access the second-to-last element of the tuple ('red', 'green', 'blue', 'yellow').\n",
        "\n",
        "colors = ('red', 'green', 'blue', 'yellow')\n",
        "print(colors[-2])  # 'blue'"
      ],
      "metadata": {
        "colab": {
          "base_uri": "https://localhost:8080/"
        },
        "id": "iCZz7Don1F8L",
        "outputId": "b8f4a015-731d-40ff-bccc-6a766090387e"
      },
      "execution_count": 20,
      "outputs": [
        {
          "output_type": "stream",
          "name": "stdout",
          "text": [
            "blue\n"
          ]
        }
      ]
    },
    {
      "cell_type": "code",
      "source": [
        "# Q13. Find the minimum number in the tuple (10, 20, 5, 15).\n",
        "\n",
        "nums = (10, 20, 5, 15)\n",
        "print(min(nums))  # 5"
      ],
      "metadata": {
        "colab": {
          "base_uri": "https://localhost:8080/"
        },
        "id": "EaZ9FSxA1NSL",
        "outputId": "4e2aaa1b-bb54-4eb9-ace8-304ba0f5b430"
      },
      "execution_count": 21,
      "outputs": [
        {
          "output_type": "stream",
          "name": "stdout",
          "text": [
            "5\n"
          ]
        }
      ]
    },
    {
      "cell_type": "code",
      "source": [
        "# Q14. Find the index of \"cat\" in the tuple ('dog', 'cat', 'rabbit').\n",
        "\n",
        "animals = ('dog', 'cat', 'rabbit')\n",
        "print(animals.index('cat'))  # 1"
      ],
      "metadata": {
        "colab": {
          "base_uri": "https://localhost:8080/"
        },
        "id": "QngjKVv21X4T",
        "outputId": "24848737-29f6-423b-f1ab-4cfed5143aa2"
      },
      "execution_count": 22,
      "outputs": [
        {
          "output_type": "stream",
          "name": "stdout",
          "text": [
            "1\n"
          ]
        }
      ]
    },
    {
      "cell_type": "code",
      "source": [
        "#Q15. Create a tuple with 3 fruits and check if \"kiwi\" is in it.\n",
        "\n",
        "fruits = ('apple', 'banana', 'mango')\n",
        "print(\"kiwi\" in fruits)  # False|"
      ],
      "metadata": {
        "colab": {
          "base_uri": "https://localhost:8080/"
        },
        "id": "o_fQ8CwF1liz",
        "outputId": "30c65482-15f9-47c0-8cd4-91c5713c89a0"
      },
      "execution_count": 23,
      "outputs": [
        {
          "output_type": "stream",
          "name": "stdout",
          "text": [
            "False\n"
          ]
        }
      ]
    },
    {
      "cell_type": "code",
      "source": [
        "# Q16. Create a set with 'a', 'b', 'c' and print it.\n",
        "\n",
        "my_set = {'a', 'b', 'c'}\n",
        "print(my_set)\n",
        "\n"
      ],
      "metadata": {
        "colab": {
          "base_uri": "https://localhost:8080/"
        },
        "id": "JuSMV-J11stJ",
        "outputId": "5c159809-7c8a-4f44-cb32-cf3a9a61a2ef"
      },
      "execution_count": 24,
      "outputs": [
        {
          "output_type": "stream",
          "name": "stdout",
          "text": [
            "{'b', 'c', 'a'}\n"
          ]
        }
      ]
    },
    {
      "cell_type": "code",
      "source": [
        "# Q17. Clear all elements from the set {1, 2, 3, 4, 5}.\n",
        "\n",
        "nums = {1, 2, 3, 4, 5}\n",
        "nums.clear()\n",
        "print(nums)  # set()"
      ],
      "metadata": {
        "colab": {
          "base_uri": "https://localhost:8080/"
        },
        "id": "SFGqfcYw12z7",
        "outputId": "1e4403c7-ddf9-413e-d4e3-cea8c140d3ea"
      },
      "execution_count": 26,
      "outputs": [
        {
          "output_type": "stream",
          "name": "stdout",
          "text": [
            "set()\n"
          ]
        }
      ]
    },
    {
      "cell_type": "code",
      "source": [
        "# Q18. Remove the element 4 from the set {1, 2, 3, 4}.\n",
        "\n",
        "my_set = {1, 2, 3, 4}\n",
        "my_set.remove(4)\n",
        "print(my_set)"
      ],
      "metadata": {
        "colab": {
          "base_uri": "https://localhost:8080/"
        },
        "id": "SzdDz8Ui2BQk",
        "outputId": "a84c9334-9a4e-467b-b995-170151d9e7b3"
      },
      "execution_count": 27,
      "outputs": [
        {
          "output_type": "stream",
          "name": "stdout",
          "text": [
            "{1, 2, 3}\n"
          ]
        }
      ]
    },
    {
      "cell_type": "code",
      "source": [
        "# Q19. Find the union of {1, 2, 3} and {3, 4, 5}.\n",
        "\n",
        "set1 = {1, 2, 3}\n",
        "set2 = {3, 4, 5}\n",
        "print(set1.union(set2))  # {1, 2, 3, 4, 5}"
      ],
      "metadata": {
        "colab": {
          "base_uri": "https://localhost:8080/"
        },
        "id": "TbtqYien2Yds",
        "outputId": "3d68e4d1-5efe-4261-e461-2b8258744f8c"
      },
      "execution_count": 28,
      "outputs": [
        {
          "output_type": "stream",
          "name": "stdout",
          "text": [
            "{1, 2, 3, 4, 5}\n"
          ]
        }
      ]
    },
    {
      "cell_type": "code",
      "source": [
        "#Q20. Find the intersection of {1, 2, 3} and {2, 3, 4}.\n",
        "\n",
        "set1 = {1, 2, 3}\n",
        "set2 = {2, 3, 4}\n",
        "print(set1.intersection(set2))  # {2, 3}"
      ],
      "metadata": {
        "colab": {
          "base_uri": "https://localhost:8080/"
        },
        "id": "Umlq98PC2d1L",
        "outputId": "fb229122-0437-4541-ce81-3ca86da26721"
      },
      "execution_count": 30,
      "outputs": [
        {
          "output_type": "stream",
          "name": "stdout",
          "text": [
            "{2, 3}\n"
          ]
        }
      ]
    },
    {
      "cell_type": "code",
      "source": [
        "#Q21. Create a dictionary with the keys \"name\", \"age\", and \"city\", and print it.\n",
        "\n",
        "person = {\n",
        "    \"name\": \"John\",\n",
        "    \"age\": 25,\n",
        "    \"city\": \"New York\"\n",
        "}\n",
        "print(person)"
      ],
      "metadata": {
        "colab": {
          "base_uri": "https://localhost:8080/"
        },
        "id": "xZKWpP2a2je7",
        "outputId": "e0094840-a171-47a7-cb3f-961609efa333"
      },
      "execution_count": 31,
      "outputs": [
        {
          "output_type": "stream",
          "name": "stdout",
          "text": [
            "{'name': 'John', 'age': 25, 'city': 'New York'}\n"
          ]
        }
      ]
    },
    {
      "cell_type": "code",
      "source": [
        "# Q22. Add \"country\": \"USA\" to the dictionary {'name': 'John', 'age': 25}.\n",
        "\n",
        "data = {'name': 'John', 'age': 25}\n",
        "data['country'] = 'USA'\n",
        "print(data)"
      ],
      "metadata": {
        "colab": {
          "base_uri": "https://localhost:8080/"
        },
        "id": "cQMJIlPK284z",
        "outputId": "ba64cb34-c022-4691-9331-4b9e06d1b6ac"
      },
      "execution_count": 32,
      "outputs": [
        {
          "output_type": "stream",
          "name": "stdout",
          "text": [
            "{'name': 'John', 'age': 25, 'country': 'USA'}\n"
          ]
        }
      ]
    },
    {
      "cell_type": "code",
      "source": [
        "#Q23. Access the value of \"name\" in {'name': 'Alice', 'age': 30}.\n",
        "\n",
        "info = {'name': 'Alice', 'age': 30}\n",
        "print(info['name'])  # Output: Alice"
      ],
      "metadata": {
        "colab": {
          "base_uri": "https://localhost:8080/"
        },
        "id": "F80iUHz83B-c",
        "outputId": "ce15a617-7894-4e3e-bc17-4e0afbcd980e"
      },
      "execution_count": 34,
      "outputs": [
        {
          "output_type": "stream",
          "name": "stdout",
          "text": [
            "Alice\n"
          ]
        }
      ]
    },
    {
      "cell_type": "code",
      "source": [
        "#Q24. Remove the key \"age\" from {'name': 'Bob', 'age': 22, 'city': 'New York'}.\n",
        "\n",
        "student = {'name': 'Bob', 'age': 22, 'city': 'New York'}\n",
        "del student['age']\n",
        "print(student)"
      ],
      "metadata": {
        "colab": {
          "base_uri": "https://localhost:8080/"
        },
        "id": "o2-pgy_k3HED",
        "outputId": "ac3c9e2f-15f3-4481-9cc2-8611300d93a2"
      },
      "execution_count": 36,
      "outputs": [
        {
          "output_type": "stream",
          "name": "stdout",
          "text": [
            "{'name': 'Bob', 'city': 'New York'}\n"
          ]
        }
      ]
    },
    {
      "cell_type": "code",
      "source": [
        "#Q25. Check if \"city\" exists in {'name': 'Alice', 'city': 'Paris'}.\n",
        "\n",
        "profile = {'name': 'Alice', 'city': 'Paris'}\n",
        "print('city' in profile)  # Output: True"
      ],
      "metadata": {
        "colab": {
          "base_uri": "https://localhost:8080/"
        },
        "id": "qBriBhse3OID",
        "outputId": "9bdcdbf9-91bf-4dcd-d369-461f62d125a2"
      },
      "execution_count": 37,
      "outputs": [
        {
          "output_type": "stream",
          "name": "stdout",
          "text": [
            "True\n"
          ]
        }
      ]
    },
    {
      "cell_type": "code",
      "source": [
        "# Q26. Create and print a list, tuple, and dictionary.\n",
        "\n",
        "my_list = [1, 2, 3]\n",
        "my_tuple = ('a', 'b', 'c')\n",
        "my_dict = {'x': 10, 'y': 20}\n",
        "\n",
        "print(my_list)\n",
        "print(my_tuple)\n",
        "print(my_dict)"
      ],
      "metadata": {
        "colab": {
          "base_uri": "https://localhost:8080/"
        },
        "id": "ezUyuEqy3VlL",
        "outputId": "1e5d3c5d-0771-461c-a585-38310ed7d025"
      },
      "execution_count": 38,
      "outputs": [
        {
          "output_type": "stream",
          "name": "stdout",
          "text": [
            "[1, 2, 3]\n",
            "('a', 'b', 'c')\n",
            "{'x': 10, 'y': 20}\n"
          ]
        }
      ]
    },
    {
      "cell_type": "code",
      "source": [
        "#Q27. Create a list of 5 random numbers (1–100), sort & print.\n",
        "\n",
        "import random\n",
        "numbers = random.sample(range(1, 101), 5)\n",
        "numbers.sort()\n",
        "print(numbers)"
      ],
      "metadata": {
        "colab": {
          "base_uri": "https://localhost:8080/"
        },
        "id": "PsQrrWo83a5L",
        "outputId": "484cfb39-6bf5-4e81-ad84-831fe8544198"
      },
      "execution_count": 39,
      "outputs": [
        {
          "output_type": "stream",
          "name": "stdout",
          "text": [
            "[34, 36, 39, 41, 63]\n"
          ]
        }
      ]
    },
    {
      "cell_type": "code",
      "source": [
        "#Q28. Create a list with strings and print the element at index 3.\n",
        "\n",
        "words = ['apple', 'banana', 'cherry', 'date', 'fig']\n",
        "print(words[3])  # Output: date"
      ],
      "metadata": {
        "colab": {
          "base_uri": "https://localhost:8080/"
        },
        "id": "vmrOHOTl3fFz",
        "outputId": "588ade6a-7d58-4519-bcfd-056bd5a734c6"
      },
      "execution_count": 41,
      "outputs": [
        {
          "output_type": "stream",
          "name": "stdout",
          "text": [
            "date\n"
          ]
        }
      ]
    },
    {
      "cell_type": "code",
      "source": [
        "# Q29. Combine two dictionaries and print the result.\n",
        "\n",
        "dict1 = {'a': 1, 'b': 2}\n",
        "dict2 = {'c': 3, 'd': 4}\n",
        "combined = {**dict1, **dict2}\n",
        "print(combined)"
      ],
      "metadata": {
        "colab": {
          "base_uri": "https://localhost:8080/"
        },
        "id": "VrpYyA823lnt",
        "outputId": "1dd573d8-ca44-4649-c015-7261ad52ccc5"
      },
      "execution_count": 42,
      "outputs": [
        {
          "output_type": "stream",
          "name": "stdout",
          "text": [
            "{'a': 1, 'b': 2, 'c': 3, 'd': 4}\n"
          ]
        }
      ]
    },
    {
      "cell_type": "code",
      "source": [
        "# Q30. Convert a list of strings into a set.\n",
        "\n",
        "string_list = ['apple', 'banana', 'apple', 'cherry']\n",
        "unique_set = set(string_list)\n",
        "print(unique_set)"
      ],
      "metadata": {
        "colab": {
          "base_uri": "https://localhost:8080/"
        },
        "id": "texElD1v3tID",
        "outputId": "fc9a7180-463a-4045-f593-2b1a674c88e2"
      },
      "execution_count": 43,
      "outputs": [
        {
          "output_type": "stream",
          "name": "stdout",
          "text": [
            "{'cherry', 'banana', 'apple'}\n"
          ]
        }
      ]
    },
    {
      "cell_type": "markdown",
      "source": [
        "#THANK YOU"
      ],
      "metadata": {
        "id": "MeYPlrhu34SR"
      }
    }
  ]
}